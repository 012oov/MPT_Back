{
 "cells": [
  {
   "cell_type": "code",
   "execution_count": 14,
   "id": "14dad44e-d0ab-4433-a8ed-121d3a325bb9",
   "metadata": {},
   "outputs": [
    {
     "name": "stdout",
     "output_type": "stream",
     "text": [
      "\n",
      "--- 'Max Calmar Ratio' 모델 시뮬레이션 시작 ---\n"
     ]
    },
    {
     "name": "stderr",
     "output_type": "stream",
     "text": [
      "C:\\Users\\012oov\\Documents\\012\\Quant\\1. MPT_Back\\Source\\backtester.py:27: FutureWarning: 'M' is deprecated and will be removed in a future version, please use 'ME' instead.\n",
      "  rebal_check_dates = pd.to_datetime(self.prices.resample(self.frequency).last().index)\n"
     ]
    },
    {
     "name": "stdout",
     "output_type": "stream",
     "text": [
      "Total rebalances: 15\n",
      "\n",
      "--- 'Risk Parity' 모델 시뮬레이션 시작 ---\n"
     ]
    },
    {
     "name": "stderr",
     "output_type": "stream",
     "text": [
      "C:\\Users\\012oov\\Documents\\012\\Quant\\1. MPT_Back\\Source\\backtester.py:27: FutureWarning: 'M' is deprecated and will be removed in a future version, please use 'ME' instead.\n",
      "  rebal_check_dates = pd.to_datetime(self.prices.resample(self.frequency).last().index)\n"
     ]
    },
    {
     "name": "stdout",
     "output_type": "stream",
     "text": [
      "Total rebalances: 2\n",
      "\n",
      "--- 'Minimum Variance' 모델 시뮬레이션 시작 ---\n"
     ]
    },
    {
     "name": "stderr",
     "output_type": "stream",
     "text": [
      "C:\\Users\\012oov\\Documents\\012\\Quant\\1. MPT_Back\\Source\\backtester.py:27: FutureWarning: 'M' is deprecated and will be removed in a future version, please use 'ME' instead.\n",
      "  rebal_check_dates = pd.to_datetime(self.prices.resample(self.frequency).last().index)\n"
     ]
    },
    {
     "name": "stdout",
     "output_type": "stream",
     "text": [
      "Total rebalances: 0\n",
      "\n",
      "--- 'Daily (30% Cap)' 모델 시뮬레이션 시작 ---\n"
     ]
    },
    {
     "name": "stderr",
     "output_type": "stream",
     "text": [
      "C:\\Users\\012oov\\Documents\\012\\Quant\\1. MPT_Back\\Source\\backtester.py:27: FutureWarning: 'M' is deprecated and will be removed in a future version, please use 'ME' instead.\n",
      "  rebal_check_dates = pd.to_datetime(self.prices.resample(self.frequency).last().index)\n"
     ]
    },
    {
     "name": "stdout",
     "output_type": "stream",
     "text": [
      "Total rebalances: 6\n",
      "\n",
      "--- 'Target Return (18%)' 모델 시뮬레이션 시작 ---\n"
     ]
    },
    {
     "name": "stderr",
     "output_type": "stream",
     "text": [
      "C:\\Users\\012oov\\Documents\\012\\Quant\\1. MPT_Back\\Source\\backtester.py:27: FutureWarning: 'M' is deprecated and will be removed in a future version, please use 'ME' instead.\n",
      "  rebal_check_dates = pd.to_datetime(self.prices.resample(self.frequency).last().index)\n"
     ]
    },
    {
     "name": "stdout",
     "output_type": "stream",
     "text": [
      "Total rebalances: 10\n",
      "\n",
      "--- 'Benchmark (Spy)' 모델 시뮬레이션 시작 ---\n",
      "\n",
      "--- 'Benchmark (Btc-Usd)' 모델 시뮬레이션 시작 ---\n"
     ]
    }
   ],
   "source": [
    "# 7. 실행 파일 2 (각 최적화 비중으로 포트폴리오 구성 시 결과물)\n",
    "\n",
    "import pandas as pd\n",
    "import config\n",
    "from backtester import Backtester\n",
    "from visualizer import Visualizer\n",
    "from utils import format_model_name\n",
    "\n",
    "# 1. 데이터 로드\n",
    "try:\n",
    "    price_data = pd.read_csv(config.RAW_DATA_PATH, index_col=0, parse_dates=True)\n",
    "    all_weights_dict = pd.read_excel(config.OPTIMAL_WEIGHTS_SAVE_PATH, sheet_name=None)\n",
    "except FileNotFoundError as e:\n",
    "    print(f\"오류: 필수 파일 로드 실패 - {e}\\n'1_run_optimization.ipynb'을 먼저 실행하세요.\")\n",
    "    exit()\n",
    "\n",
    "# 2. 성과 분석 실행\n",
    "portfolio_results = {}\n",
    "models_to_run = {**all_weights_dict, 'Benchmark (SPY)': 'SPY', 'Benchmark (BTC-USD)': 'BTC-USD'}\n",
    "\n",
    "for sheet_name, data in models_to_run.items():\n",
    "    model_name = format_model_name(sheet_name)\n",
    "    print(f\"\\n--- '{model_name}' 모델 시뮬레이션 시작 ---\")\n",
    "    \n",
    "    if isinstance(data, pd.DataFrame): # 최적화 모델\n",
    "        tickers = data['Ticker'].tolist()\n",
    "        weights = data['Optimal_Weight'].values\n",
    "        model_price_data = price_data[tickers].dropna()\n",
    "        \n",
    "        backtester = Backtester(\n",
    "            prices=model_price_data, weights=weights, \n",
    "            initial_investment=config.INITIAL_INVESTMENT_USD,\n",
    "            frequency=config.REBALANCING_FREQUENCY,\n",
    "            threshold=config.REBALANCING_THRESHOLD,\n",
    "            slippage=config.SLIPPAGE_PCT,\n",
    "            risk_free_rate=config.RISK_FREE_RATE_ANNUAL\n",
    "        )\n",
    "        portfolio_value = backtester.run()\n",
    "    else: # 벤치마크\n",
    "        bm_price_data = price_data[[data]].dropna()\n",
    "        bm_returns = bm_price_data.pct_change().dropna()\n",
    "        portfolio_value = (config.INITIAL_INVESTMENT_USD * (1 + bm_returns).cumprod()).iloc[:, 0]\n",
    "\n",
    "    performance = Backtester.calculate_performance_metrics(portfolio_value, config.RISK_FREE_RATE_ANNUAL)\n",
    "    portfolio_results[model_name] = {'value': portfolio_value, **performance}\n",
    "    print(f\"  - 최종 가치: ${performance['Final Value']:,.2f}, CAGR: {performance['CAGR']*100:.2f}%, MDD: {performance['MDD']*100:.2f}%, Sharpe: {performance['Sharpe Ratio']:.2f}, Calmar: {performance['Calmar Ratio']:.2f}\")\n",
    "\n",
    "# 3. 상세 성과 보고서 생성 및 저장\n",
    "if portfolio_results:\n",
    "    report_data = [{**{'Model': name}, **{k: v for k, v in metrics.items() if k not in ['value', 'drawdown_series']}} \n",
    "                   for name, metrics in portfolio_results.items()]\n",
    "    report_df = pd.DataFrame(report_data).set_index('Model')\n",
    "    \n",
    "    # 보기 좋게 포맷팅\n",
    "    for col in ['CAGR', 'Annualized Volatility', 'MDD']:\n",
    "        report_df[col] = (report_df[col] * 100).map('{:.2f}%'.format)\n",
    "    for col in ['Sharpe Ratio', 'Calmar Ratio']:\n",
    "        report_df[col] = report_df[col].map('{:.2f}'.format)\n",
    "    report_df['Final Value'] = report_df['Final Value'].map('${:,.2f}'.format)\n",
    "    \n",
    "    report_df.to_csv(config.PERFORMANCE_REPORT_SAVE_PATH)\n",
    "    print(f\"\\n상세 성과 보고서가 저장되었습니다: {config.PERFORMANCE_REPORT_SAVE_PATH}\")\n",
    "    display(report_df)\n",
    "\n",
    "# 4. 시각화\n",
    "if portfolio_results:\n",
    "    visualizer = Visualizer(portfolio_results)\n",
    "    visualizer.plot_performance_comparison()\n"
   ]
  },
  {
   "cell_type": "code",
   "execution_count": null,
   "id": "80242928-824b-45f4-9b8d-a89b19e83755",
   "metadata": {},
   "outputs": [],
   "source": []
  },
  {
   "cell_type": "code",
   "execution_count": null,
   "id": "a72af161-7fe9-4d22-956a-93c9bff76031",
   "metadata": {},
   "outputs": [],
   "source": []
  }
 ],
 "metadata": {
  "kernelspec": {
   "display_name": "Python 3 (ipykernel)",
   "language": "python",
   "name": "python3"
  },
  "language_info": {
   "codemirror_mode": {
    "name": "ipython",
    "version": 3
   },
   "file_extension": ".py",
   "mimetype": "text/x-python",
   "name": "python",
   "nbconvert_exporter": "python",
   "pygments_lexer": "ipython3",
   "version": "3.8.9"
  }
 },
 "nbformat": 4,
 "nbformat_minor": 5
}
