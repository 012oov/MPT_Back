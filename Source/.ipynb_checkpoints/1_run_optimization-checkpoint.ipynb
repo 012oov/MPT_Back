{
 "cells": [
  {
   "cell_type": "code",
   "execution_count": 3,
   "id": "ae6118d8-59cc-4053-99b8-54055f9bd86c",
   "metadata": {},
   "outputs": [
    {
     "name": "stdout",
     "output_type": "stream",
     "text": [
      "'['SPY', 'QQQ', 'IWM', 'VTI', 'AGG', 'XLK', 'XLV', 'XLF', 'XLE', 'XLP', 'VIG', 'GLD', 'BTC-USD', 'ETH-USD', 'SOL-USD', 'XRP-USD', 'ADA-USD', 'AVAX-USD', 'LINK-USD', 'DOT-USD']' 종목 데이터 다운로드 시도 중...\n"
     ]
    },
    {
     "name": "stderr",
     "output_type": "stream",
     "text": [
      "[*********************100%***********************]  20 of 20 completed\n"
     ]
    },
    {
     "name": "stdout",
     "output_type": "stream",
     "text": [
      "수정 종가 데이터가 로컬에 저장되었습니다: /Users/012oov/Documents/Quant/MPT_Back/Data/Raw data/downloaded_stock_prices.csv\n",
      "\n",
      "--- 'max_calmar' 모델 분석 시작 ---\n"
     ]
    },
    {
     "name": "stderr",
     "output_type": "stream",
     "text": [
      "/Users/012oov/Documents/Quant/MPT_Back/venv/lib/python3.8/site-packages/scipy/optimize/_optimize.py:353: RuntimeWarning: Values in x were outside bounds during a minimize step, clipping to bounds\n",
      "  warnings.warn(\"Values in x were outside bounds during a \"\n",
      "/Users/012oov/Documents/Quant/MPT_Back/venv/lib/python3.8/site-packages/scipy/optimize/_optimize.py:353: RuntimeWarning: Values in x were outside bounds during a minimize step, clipping to bounds\n",
      "  warnings.warn(\"Values in x were outside bounds during a \"\n",
      "/Users/012oov/Documents/Quant/MPT_Back/venv/lib/python3.8/site-packages/scipy/optimize/_optimize.py:353: RuntimeWarning: Values in x were outside bounds during a minimize step, clipping to bounds\n",
      "  warnings.warn(\"Values in x were outside bounds during a \"\n"
     ]
    },
    {
     "name": "stdout",
     "output_type": "stream",
     "text": [
      "최적 가중치: SPY: 1.00%, QQQ: 1.00%, IWM: 1.00%, VTI: 1.00%, AGG: 1.00%, XLK: 1.00%, XLV: 1.00%, XLF: 15.63%, XLE: 26.12%, XLP: 1.00%, VIG: 1.00%, GLD: 30.00%, BTC-USD: 3.79%, ETH-USD: 1.00%, SOL-USD: 7.71%, XRP-USD: 2.74%, ADA-USD: 1.00%, AVAX-USD: 1.00%, LINK-USD: 1.00%, DOT-USD: 1.00%\n",
      "\n",
      "--- 'max_sharpe' 모델 분석 시작 ---\n"
     ]
    },
    {
     "name": "stderr",
     "output_type": "stream",
     "text": [
      "/Users/012oov/Documents/Quant/MPT_Back/venv/lib/python3.8/site-packages/scipy/optimize/_optimize.py:353: RuntimeWarning: Values in x were outside bounds during a minimize step, clipping to bounds\n",
      "  warnings.warn(\"Values in x were outside bounds during a \"\n",
      "/Users/012oov/Documents/Quant/MPT_Back/venv/lib/python3.8/site-packages/scipy/optimize/_optimize.py:353: RuntimeWarning: Values in x were outside bounds during a minimize step, clipping to bounds\n",
      "  warnings.warn(\"Values in x were outside bounds during a \"\n",
      "/Users/012oov/Documents/Quant/MPT_Back/venv/lib/python3.8/site-packages/scipy/optimize/_optimize.py:353: RuntimeWarning: Values in x were outside bounds during a minimize step, clipping to bounds\n",
      "  warnings.warn(\"Values in x were outside bounds during a \"\n"
     ]
    },
    {
     "name": "stdout",
     "output_type": "stream",
     "text": [
      "최적 가중치: SPY: 1.00%, QQQ: 1.00%, IWM: 1.00%, VTI: 1.00%, AGG: 1.00%, XLK: 1.00%, XLV: 1.00%, XLF: 15.63%, XLE: 26.12%, XLP: 1.00%, VIG: 1.00%, GLD: 30.00%, BTC-USD: 3.79%, ETH-USD: 1.00%, SOL-USD: 7.71%, XRP-USD: 2.74%, ADA-USD: 1.00%, AVAX-USD: 1.00%, LINK-USD: 1.00%, DOT-USD: 1.00%\n",
      "\n",
      "--- 'risk_parity' 모델 분석 시작 ---\n",
      "최적 가중치: SPY: 6.70%, QQQ: 5.06%, IWM: 5.07%, VTI: 6.56%, AGG: 19.23%, XLK: 4.69%, XLV: 8.08%, XLF: 5.94%, XLE: 4.03%, XLP: 8.92%, VIG: 7.97%, GLD: 7.78%, BTC-USD: 1.93%, ETH-USD: 1.45%, SOL-USD: 0.99%, XRP-USD: 1.04%, ADA-USD: 1.20%, AVAX-USD: 0.97%, LINK-USD: 1.18%, DOT-USD: 1.21%\n",
      "\n",
      "--- 'min_variance' 모델 분석 시작 ---\n",
      "최적 가중치: SPY: 1.00%, QQQ: 1.00%, IWM: 1.00%, VTI: 1.00%, AGG: 30.00%, XLK: 1.00%, XLV: 3.46%, XLF: 1.00%, XLE: 1.00%, XLP: 24.75%, VIG: 1.00%, GLD: 25.79%, BTC-USD: 1.00%, ETH-USD: 1.00%, SOL-USD: 1.00%, XRP-USD: 1.00%, ADA-USD: 1.00%, AVAX-USD: 1.00%, LINK-USD: 1.00%, DOT-USD: 1.00%\n",
      "\n",
      "--- 'target_return' 모델 분석 시작 ---\n"
     ]
    },
    {
     "name": "stderr",
     "output_type": "stream",
     "text": [
      "/Users/012oov/Documents/Quant/MPT_Back/venv/lib/python3.8/site-packages/scipy/optimize/_optimize.py:353: RuntimeWarning: Values in x were outside bounds during a minimize step, clipping to bounds\n",
      "  warnings.warn(\"Values in x were outside bounds during a \"\n",
      "/Users/012oov/Documents/Quant/MPT_Back/venv/lib/python3.8/site-packages/scipy/optimize/_optimize.py:353: RuntimeWarning: Values in x were outside bounds during a minimize step, clipping to bounds\n",
      "  warnings.warn(\"Values in x were outside bounds during a \"\n",
      "/Users/012oov/Documents/Quant/MPT_Back/venv/lib/python3.8/site-packages/scipy/optimize/_optimize.py:353: RuntimeWarning: Values in x were outside bounds during a minimize step, clipping to bounds\n",
      "  warnings.warn(\"Values in x were outside bounds during a \"\n"
     ]
    },
    {
     "name": "stdout",
     "output_type": "stream",
     "text": [
      "최적 가중치: SPY: 1.00%, QQQ: 1.00%, IWM: 1.00%, VTI: 1.00%, AGG: 26.68%, XLK: 1.00%, XLV: 1.00%, XLF: 7.27%, XLE: 10.94%, XLP: 9.60%, VIG: 1.00%, GLD: 30.00%, BTC-USD: 1.00%, ETH-USD: 1.00%, SOL-USD: 1.52%, XRP-USD: 1.00%, ADA-USD: 1.00%, AVAX-USD: 1.00%, LINK-USD: 1.00%, DOT-USD: 1.00%\n",
      "\n",
      "모든 모델의 최적 가중치가 저장되었습니다: /Users/012oov/Documents/Quant/MPT_Back/Results/optimized_weights_all_periods.xlsx\n"
     ]
    }
   ],
   "source": [
    "# 6. 실행 파일 1 (최적화 비중 뽑아내는 것 까지)\n",
    "\n",
    "import pandas as pd\n",
    "import numpy as np\n",
    "import config\n",
    "from data_manager import DataManager\n",
    "from portfolio_optimizer import PortfolioOptimizer\n",
    "from backtester import DynamicBacktester\n",
    "from visualizer import Visualizer\n",
    "from utils import format_model_name\n",
    "\n",
    "# --- 1. 데이터 준비 ---\n",
    "dm = DataManager()\n",
    "stock_data = dm.get_data(config.STOCKS, config.START_DATE, config.END_DATE, save_path=config.RAW_DATA_PATH)\n",
    "\n",
    "# --- 2. 전략별 백테스팅 실행 ---\n",
    "portfolio_results = {}\n",
    "\n",
    "def strategy_wrapper(prices, **params):\n",
    "    \"\"\"최적화 로직을 백테스터에 전달하기 위한 래퍼 함수\"\"\"\n",
    "    returns = dm.calculate_returns(prices, 'daily')\n",
    "    optimizer = PortfolioOptimizer(returns)\n",
    "    \n",
    "    # Risk Parity는 별도 처리\n",
    "    if params.get('is_optimizer') is False:\n",
    "        return optimizer.get_risk_parity_weights(returns)\n",
    "        \n",
    "    # 나머지 최적화 전략\n",
    "    num_assets = len(prices.columns)\n",
    "    bounds = tuple((config.WEIGHT_CONSTRAINTS['min'], config.WEIGHT_CONSTRAINTS['max'])) for _ in range(num_assets)\n",
    "    constraints = [{'type': 'eq', 'fun': lambda x: np.sum(x) - 1}]\n",
    "    target_return = params.get('target_return')\n",
    "    \n",
    "    if target_return is not None:\n",
    "        constraints.append({'type': 'ineq', 'fun': lambda w: optimizer.calculate_metrics(w)['return'] - target_return})\n",
    "        \n",
    "    return optimizer.run_optimization(params['objective'], constraints=constraints, bounds=bounds)\n",
    "\n",
    "# 활성화된 전략 실행\n",
    "for name, params in config.STRATEGIES.items():\n",
    "    if not params.get('enabled', False):\n",
    "        continue\n",
    "    \n",
    "    model_name = format_model_name(name)\n",
    "    print(f\"\\n--- '{model_name}' 모델 동적 백테스팅 시작 ---\")\n",
    "    \n",
    "    backtester = DynamicBacktester(\n",
    "        prices=stock_data,\n",
    "        strategy_func=strategy_wrapper,\n",
    "        strategy_params=params,\n",
    "        initial_investment=config.INITIAL_INVESTMENT_USD,\n",
    "        window=config.ROLLING_WINDOW_YEARS,\n",
    "        frequency=config.REBALANCE_FREQUENCY,\n",
    "        slippage=config.SLIPPAGE_PCT\n",
    "    )\n",
    "    portfolio_value = backtester.run()\n",
    "    \n",
    "    performance = DynamicBacktester.calculate_performance_metrics(portfolio_value, config.RISK_FREE_RATE_ANNUAL)\n",
    "    portfolio_results[model_name] = {'value': portfolio_value, **performance}\n",
    "\n",
    "# --- 3. 벤치마크 성과 계산 ---\n",
    "benchmarks = {'SPY': 'SPY', 'BTC-USD': 'BTC-USD'}\n",
    "for bm_name, bm_ticker in benchmarks.items():\n",
    "    if bm_ticker in stock_data.columns:\n",
    "        bm_price_data = stock_data[[bm_ticker]].dropna()\n",
    "        bm_returns = bm_price_data.pct_change().dropna()\n",
    "        portfolio_value = (config.INITIAL_INVESTMENT_USD * (1 + bm_returns).cumprod()).iloc[:, 0]\n",
    "        performance = DynamicBacktester.calculate_performance_metrics(portfolio_value, config.RISK_FREE_RATE_ANNUAL)\n",
    "        portfolio_results[f\"Benchmark ({bm_name})\"] = {'value': portfolio_value, **performance}\n",
    "\n",
    "# --- 4. 최종 결과 요약 및 저장 ---\n",
    "if portfolio_results:\n",
    "    report_data = []\n",
    "    print(\"\\n\\n--- 최종 성과 요약 ---\")\n",
    "    for name, metrics in portfolio_results.items():\n",
    "        print(f\"  - {name}: CAGR={metrics['CAGR']:.2%}, MDD={metrics['MDD']:.2%}, Sharpe={metrics['Sharpe Ratio']:.2f}, Calmar={metrics['Calmar Ratio']:.2f}\")\n",
    "        row = {k: v for k, v in metrics.items() if k not in ['value', 'drawdown_series']}\n",
    "        row['Model'] = name\n",
    "        report_data.append(row)\n",
    "        \n",
    "    report_df = pd.DataFrame(report_data).set_index('Model')\n",
    "    report_df.to_csv(config.PERFORMANCE_REPORT_SAVE_PATH)\n",
    "    print(f\"\\n상세 성과 보고서가 저장되었습니다: {config.PERFORMANCE_REPORT_SAVE_PATH}\")\n",
    "    display(report_df)\n",
    "\n",
    "    # --- 5. 시각화 ---\n",
    "    visualizer = Visualizer(portfolio_results)\n",
    "    visualizer.plot_performance_comparison()\n"
   ]
  },
  {
   "cell_type": "code",
   "execution_count": null,
   "id": "6096da5f-1c51-4147-a6cf-a0413dec29b5",
   "metadata": {},
   "outputs": [],
   "source": []
  },
  {
   "cell_type": "code",
   "execution_count": null,
   "id": "5ae67f00-10f2-4f27-a679-90e4ef9321f3",
   "metadata": {},
   "outputs": [],
   "source": []
  }
 ],
 "metadata": {
  "kernelspec": {
   "display_name": "MPT Project Env",
   "language": "python",
   "name": "mpt_project_env"
  },
  "language_info": {
   "codemirror_mode": {
    "name": "ipython",
    "version": 3
   },
   "file_extension": ".py",
   "mimetype": "text/x-python",
   "name": "python",
   "nbconvert_exporter": "python",
   "pygments_lexer": "ipython3",
   "version": "3.8.9"
  }
 },
 "nbformat": 4,
 "nbformat_minor": 5
}
