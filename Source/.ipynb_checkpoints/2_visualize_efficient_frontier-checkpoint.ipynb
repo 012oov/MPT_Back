{
 "cells": [
  {
   "cell_type": "code",
   "execution_count": 3,
   "id": "8bcd8531-a378-4715-b520-7e87a1ebe7ef",
   "metadata": {},
   "outputs": [
    {
     "ename": "AttributeError",
     "evalue": "module 'config' has no attribute 'OPTIMAL_WEIGHTS_SAVE_PATH'",
     "output_type": "error",
     "traceback": [
      "\u001b[0;31m---------------------------------------------------------------------------\u001b[0m",
      "\u001b[0;31mAttributeError\u001b[0m                            Traceback (most recent call last)",
      "Cell \u001b[0;32mIn[3], line 14\u001b[0m\n\u001b[1;32m     12\u001b[0m \u001b[38;5;28;01mtry\u001b[39;00m:\n\u001b[1;32m     13\u001b[0m     stock_data \u001b[38;5;241m=\u001b[39m pd\u001b[38;5;241m.\u001b[39mread_csv(config\u001b[38;5;241m.\u001b[39mRAW_DATA_PATH, index_col\u001b[38;5;241m=\u001b[39m\u001b[38;5;241m0\u001b[39m, parse_dates\u001b[38;5;241m=\u001b[39m\u001b[38;5;28;01mTrue\u001b[39;00m)\n\u001b[0;32m---> 14\u001b[0m     all_weights_dict \u001b[38;5;241m=\u001b[39m pd\u001b[38;5;241m.\u001b[39mread_excel(\u001b[43mconfig\u001b[49m\u001b[38;5;241;43m.\u001b[39;49m\u001b[43mOPTIMAL_WEIGHTS_SAVE_PATH\u001b[49m, sheet_name\u001b[38;5;241m=\u001b[39m\u001b[38;5;28;01mNone\u001b[39;00m)\n\u001b[1;32m     15\u001b[0m     daily_returns \u001b[38;5;241m=\u001b[39m dm\u001b[38;5;241m.\u001b[39mcalculate_returns(stock_data, \u001b[38;5;124m'\u001b[39m\u001b[38;5;124mdaily\u001b[39m\u001b[38;5;124m'\u001b[39m)\n\u001b[1;32m     16\u001b[0m \u001b[38;5;28;01mexcept\u001b[39;00m \u001b[38;5;167;01mFileNotFoundError\u001b[39;00m:\n",
      "\u001b[0;31mAttributeError\u001b[0m: module 'config' has no attribute 'OPTIMAL_WEIGHTS_SAVE_PATH'"
     ]
    }
   ],
   "source": [
    "# 8. 실행 파일 3. Efficient Frontier Line 시각화 실행 모듈. \n",
    "\n",
    "import pandas as pd\n",
    "import config\n",
    "from data_manager import DataManager\n",
    "from portfolio_optimizer import PortfolioOptimizer\n",
    "from visualizer import Visualizer\n",
    "from utils import format_model_name\n",
    "\n",
    "# 1. 데이터 로드\n",
    "dm = DataManager()\n",
    "try:\n",
    "    stock_data = pd.read_csv(config.RAW_DATA_PATH, index_col=0, parse_dates=True)\n",
    "    all_weights_dict = pd.read_excel(config.OPTIMAL_WEIGHTS_SAVE_PATH, sheet_name=None)\n",
    "    daily_returns = dm.calculate_returns(stock_data, 'daily')\n",
    "except FileNotFoundError:\n",
    "    print(f\"오류: 필수 파일이 없습니다. '1_run_optimization.ipynb'을 먼저 실행하세요.\")\n",
    "    exit()\n",
    "\n",
    "# 2. 무작위 포트폴리오 생성\n",
    "print(\"\\n--- 무작위 포트폴리오 생성 ---\")\n",
    "optimizer = PortfolioOptimizer(daily_returns)\n",
    "random_ports = optimizer.generate_random_portfolios(config.NUM_RANDOM_PORTFOLIOS)\n",
    "print(f\"{config.NUM_RANDOM_PORTFOLIOS}개의 무작위 포트폴리오 생성 완료.\")\n",
    "\n",
    "# 3. 최적화된 포트폴리오 성과 계산\n",
    "optimal_points = {}\n",
    "for name, df in all_weights_dict.items():\n",
    "    weights = df['Optimal_Weight'].values\n",
    "    metrics = optimizer.calculate_metrics(weights)\n",
    "    model_name = format_model_name(name)\n",
    "    optimal_points[model_name] = metrics\n",
    "\n",
    "print(\"\\n--- 최적화된 포트폴리오 지점 계산 완료 ---\")\n",
    "for name, point in optimal_points.items():\n",
    "    print(f\" - {name}: Return={point['return']:.2%}, Volatility={point['volatility']:.2%}, Sharpe={point['sharpe']:.2f}\")\n",
    "\n",
    "# 4. 시각화\n",
    "print(\"\\n--- 효율적 투자선 시각화 ---\")\n",
    "visualizer = Visualizer(results={})\n",
    "visualizer.plot_efficient_frontier(random_ports, optimal_points)"
   ]
  },
  {
   "cell_type": "code",
   "execution_count": null,
   "id": "539ac51c-0577-41f7-aae8-f93045fc8b7a",
   "metadata": {},
   "outputs": [],
   "source": []
  },
  {
   "cell_type": "code",
   "execution_count": null,
   "id": "991a45e1-c8f4-4742-b937-c4ac23690001",
   "metadata": {},
   "outputs": [],
   "source": []
  }
 ],
 "metadata": {
  "kernelspec": {
   "display_name": "MPT Project Env",
   "language": "python",
   "name": "mpt_project_env"
  },
  "language_info": {
   "codemirror_mode": {
    "name": "ipython",
    "version": 3
   },
   "file_extension": ".py",
   "mimetype": "text/x-python",
   "name": "python",
   "nbconvert_exporter": "python",
   "pygments_lexer": "ipython3",
   "version": "3.8.9"
  }
 },
 "nbformat": 4,
 "nbformat_minor": 5
}
