{
 "cells": [
  {
   "cell_type": "code",
   "execution_count": 1,
   "id": "ae6118d8-59cc-4053-99b8-54055f9bd86c",
   "metadata": {},
   "outputs": [
    {
     "name": "stdout",
     "output_type": "stream",
     "text": [
      "'['SPY', 'QQQ', 'EFA', 'EEM', 'SSO', 'TQQQ', 'TLT', 'IEF', 'SHY', 'GLD', 'DBC', 'BTC-USD', 'ETH-USD', 'XRP-USD']' 종목 데이터 다운로드 시도 중...\n"
     ]
    },
    {
     "name": "stderr",
     "output_type": "stream",
     "text": [
      "[*********************100%***********************]  14 of 14 completed\n"
     ]
    },
    {
     "name": "stdout",
     "output_type": "stream",
     "text": [
      "수정 종가 데이터가 로컬에 저장되었습니다: /Users/012oov/Documents/Quant/MPT_Back/Data/Raw data/downloaded_stock_prices.csv\n",
      "\n",
      "--- 'max_calmar' 모델 분석 시작 ---\n",
      "최적 가중치: SPY: 7.05%, QQQ: 0.00%, EFA: 0.00%, EEM: 0.00%, SSO: 0.00%, TQQQ: 0.00%, TLT: 0.00%, IEF: 0.00%, SHY: 71.43%, GLD: 8.30%, DBC: 8.26%, BTC-USD: 3.46%, ETH-USD: 0.00%, XRP-USD: 1.50%\n",
      "\n",
      "--- 'risk_parity' 모델 분석 시작 ---\n",
      "최적 가중치: SPY: 5.05%, QQQ: 3.78%, EFA: 5.38%, EEM: 4.78%, SSO: 2.56%, TQQQ: 1.27%, TLT: 5.47%, IEF: 11.54%, SHY: 46.43%, GLD: 5.74%, DBC: 4.67%, BTC-USD: 1.46%, ETH-USD: 1.09%, XRP-USD: 0.79%\n",
      "\n",
      "--- 'min_variance' 모델 분석 시작 ---\n",
      "최적 가중치: SPY: 0.03%, QQQ: 0.00%, EFA: 0.00%, EEM: 0.00%, SSO: 0.00%, TQQQ: 0.00%, TLT: 0.00%, IEF: 0.00%, SHY: 98.80%, GLD: 0.00%, DBC: 1.16%, BTC-USD: 0.00%, ETH-USD: 0.00%, XRP-USD: 0.01%\n",
      "\n",
      "--- 'daily_30_cap' 모델 분석 시작 ---\n",
      "최적 가중치: SPY: 17.01%, QQQ: 0.00%, EFA: 0.00%, EEM: 0.00%, SSO: 0.00%, TQQQ: 0.00%, TLT: 0.00%, IEF: 0.00%, SHY: 30.00%, GLD: 25.58%, DBC: 16.35%, BTC-USD: 7.78%, ETH-USD: 0.00%, XRP-USD: 3.28%\n",
      "\n",
      "--- 'target_return' 모델 분석 시작 ---\n",
      "최적 가중치: SPY: 15.88%, QQQ: 0.00%, EFA: 0.00%, EEM: 0.00%, SSO: 0.00%, TQQQ: 0.00%, TLT: 0.00%, IEF: 0.00%, SHY: 32.67%, GLD: 24.15%, DBC: 15.90%, BTC-USD: 8.05%, ETH-USD: 0.00%, XRP-USD: 3.34%\n",
      "\n",
      "모든 모델의 최적 가중치가 저장되었습니다: /Users/012oov/Documents/Quant/MPT_Back/Results/optimized_weights_all_periods.xlsx\n"
     ]
    }
   ],
   "source": [
    "# 6. 실행 파일 1 (최적화 비중 뽑아내는 것 까지)\n",
    "\n",
    "import pandas as pd\n",
    "import numpy as np\n",
    "import os\n",
    "import config\n",
    "from data_manager import DataManager\n",
    "from portfolio_optimizer import PortfolioOptimizer\n",
    "\n",
    "# 1. 데이터 가져오기\n",
    "dm = DataManager()\n",
    "stock_data = dm.get_data(config.STOCKS, config.START_DATE, config.END_DATE, save_path=config.RAW_DATA_PATH)\n",
    "\n",
    "# 2. 최적화 실행\n",
    "if not stock_data.empty:\n",
    "    results = {}\n",
    "    final_tickers = stock_data.columns.tolist()\n",
    "    num_assets = len(final_tickers)\n",
    "    daily_returns = dm.calculate_returns(stock_data, 'daily')\n",
    "    optimizer = PortfolioOptimizer(daily_returns)\n",
    "\n",
    "    for name, params in config.STRATEGIES.items():\n",
    "        if not params.get('enabled', False):\n",
    "            continue\n",
    "            \n",
    "        print(f\"\\n--- '{name}' 모델 분석 시작 ---\")\n",
    "        \n",
    "        if params.get('is_optimizer') is False:\n",
    "            weights = optimizer.get_risk_parity_weights(daily_returns)\n",
    "        else:\n",
    "            init_guess = np.array([1/num_assets] * num_assets)\n",
    "            bounds = tuple((0, params.get('bounds_cap', 1.0)) for _ in range(num_assets))\n",
    "            constraints = [{'type': 'eq', 'fun': lambda x: np.sum(x) - 1}]\n",
    "            target_return = params.get('target_return')\n",
    "            \n",
    "            if target_return is not None:\n",
    "                constraints.append({'type': 'ineq', 'fun': lambda w: optimizer.calculate_metrics(w)['return'] - target_return})\n",
    "\n",
    "            weights = optimizer.run_optimization(params['objective'], constraints=constraints, bounds=bounds)\n",
    "        \n",
    "        results[name] = {'weights': weights}\n",
    "        print(f\"최적 가중치: \" + \", \".join([f\"{s}: {w*100:.2f}%\" for s, w in zip(final_tickers, weights)]))\n",
    "\n",
    "    # 3. 결과 저장\n",
    "    if results:\n",
    "        os.makedirs(config.RESULTS_DIR, exist_ok=True)\n",
    "        with pd.ExcelWriter(config.OPTIMAL_WEIGHTS_SAVE_PATH, engine='openpyxl') as writer:\n",
    "            for model_name, data in results.items():\n",
    "                weights_df = pd.DataFrame({'Ticker': final_tickers, 'Optimal_Weight': data['weights']})\n",
    "                weights_df.to_excel(writer, sheet_name=f'{model_name}_weights', index=False)\n",
    "        print(f\"\\n모든 모델의 최적 가중치가 저장되었습니다: {config.OPTIMAL_WEIGHTS_SAVE_PATH}\")\n"
   ]
  },
  {
   "cell_type": "code",
   "execution_count": null,
   "id": "6096da5f-1c51-4147-a6cf-a0413dec29b5",
   "metadata": {},
   "outputs": [],
   "source": []
  },
  {
   "cell_type": "code",
   "execution_count": null,
   "id": "5ae67f00-10f2-4f27-a679-90e4ef9321f3",
   "metadata": {},
   "outputs": [],
   "source": []
  }
 ],
 "metadata": {
  "kernelspec": {
   "display_name": "MPT Project Env",
   "language": "python",
   "name": "mpt_project_env"
  },
  "language_info": {
   "codemirror_mode": {
    "name": "ipython",
    "version": 3
   },
   "file_extension": ".py",
   "mimetype": "text/x-python",
   "name": "python",
   "nbconvert_exporter": "python",
   "pygments_lexer": "ipython3",
   "version": "3.8.9"
  }
 },
 "nbformat": 4,
 "nbformat_minor": 5
}
